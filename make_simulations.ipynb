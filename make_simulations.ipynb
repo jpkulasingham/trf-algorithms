{
 "cells": [
  {
   "cell_type": "markdown",
   "metadata": {},
   "source": [
    "# setup"
   ]
  },
  {
   "cell_type": "code",
   "execution_count": null,
   "metadata": {},
   "outputs": [],
   "source": [
    "%matplotlib inline\n",
    "from eelbrain import *\n",
    "import numpy as np\n",
    "import make_sim_data as mksim\n",
    "import os, importlib\n",
    "importlib.reload(mksim)\n",
    "\n",
    "root_folder = 'path_to_sim_data'\n",
    "outfolder = f'{root_folder}/outputs'"
   ]
  },
  {
   "cell_type": "markdown",
   "metadata": {},
   "source": [
    "# make sim_data 1D"
   ]
  },
  {
   "cell_type": "code",
   "execution_count": null,
   "metadata": {},
   "outputs": [],
   "source": [
    "if not os.path.exists(f'{outfolder}_1D'):\n",
    "    os.makedirs(f'{outfolder}_1D')\n",
    "    os.makedirs(f'{outfolder}_sensor')\n",
    "    os.makedirs(f'{outfolder}_source')\n",
    "rng = np.random.RandomState(2022)\n",
    "sim_data = mksim.sim_TRFs(root_folder, outfolder+'_1D', dim='1D', L=30, fs=100, rng=rng)"
   ]
  },
  {
   "cell_type": "markdown",
   "metadata": {},
   "source": [
    "# make sim_data sensor"
   ]
  },
  {
   "cell_type": "code",
   "execution_count": null,
   "metadata": {},
   "outputs": [],
   "source": [
    "if not os.path.exists(f'{outfolder}_1D'):\n",
    "    os.makedirs(f'{outfolder}_1D')\n",
    "    os.makedirs(f'{outfolder}_sensor')\n",
    "    os.makedirs(f'{outfolder}_source')\n",
    "rng = np.random.RandomState(2022)\n",
    "sim_data = mksim.sim_TRFs(root_folder, outfolder+'_sensor', dim='sensor', L=30, fs=100, rng=rng)"
   ]
  },
  {
   "cell_type": "markdown",
   "metadata": {},
   "source": [
    "# add noise sensor"
   ]
  },
  {
   "cell_type": "code",
   "execution_count": null,
   "metadata": {},
   "outputs": [],
   "source": [
    "rng = np.random.RandomState(2022)\n",
    "sim_data_snr20 = mksim.sim_add_noise(root_folder, sim_data, -20, 'sensor', jitter=0, dropout=0, fs=100, rng=rng)"
   ]
  },
  {
   "cell_type": "markdown",
   "metadata": {
    "tags": []
   },
   "source": [
    "# make sim_data source"
   ]
  },
  {
   "cell_type": "code",
   "execution_count": null,
   "metadata": {},
   "outputs": [],
   "source": [
    "subjects_dir = f'{root_folder}/source_distributions/mri'\n",
    "if not os.path.exists(f'{outfolder}_1D'):\n",
    "    os.makedirs(f'{outfolder}_1D')\n",
    "    os.makedirs(f'{outfolder}_sensor')\n",
    "    os.makedirs(f'{outfolder}_source')\n",
    "rng = np.random.RandomState(2022)\n",
    "sim_data = mksim.sim_TRFs(root_folder, outfolder+'_source', subjects_dir=subjects_dir, dim='source', L=30, fs=100, rng=rng)"
   ]
  },
  {
   "cell_type": "markdown",
   "metadata": {},
   "source": [
    "# add noise source"
   ]
  },
  {
   "cell_type": "code",
   "execution_count": null,
   "metadata": {},
   "outputs": [],
   "source": [
    "rng = np.random.RandomState(2022)\n",
    "sim_data_snr20 = mksim.sim_add_noise(root_folder, sim_data, -20, 'source', jitter=0, dropout=0, fs=100, rng=rng)"
   ]
  }
 ],
 "metadata": {
  "kernelspec": {
   "display_name": "Python 3 (ipykernel)",
   "language": "python",
   "name": "python3"
  },
  "language_info": {
   "codemirror_mode": {
    "name": "ipython",
    "version": 3
   },
   "file_extension": ".py",
   "mimetype": "text/x-python",
   "name": "python",
   "nbconvert_exporter": "python",
   "pygments_lexer": "ipython3",
   "version": "3.9.6"
  }
 },
 "nbformat": 4,
 "nbformat_minor": 4
}
